{
 "cells": [
  {
   "cell_type": "markdown",
   "metadata": {},
   "source": [
    "# Introducción a Kivy"
   ]
  },
  {
   "cell_type": "markdown",
   "metadata": {},
   "source": [
    "Kivy es un framework multiplataforma de código abierto para la creación de interfaces gráficas de usuario. Está especialmente dirigido a plataformas móviles (Android e iOS), pero también puede ejecutarse en Windows. Linux y macOS.\n",
    "\n",
    "Una aplicación creada con el framework kivy puede empaquetarse con pyinstaller para ejecutarse en equipos de escritorio, pero además el proyecto kivy incluye subproyectos que permiten distribuir las aplicaciones creadas con el framework kivy en Android e iOS."
   ]
  },
  {
   "cell_type": "markdown",
   "metadata": {},
   "source": [
    "## INSTALACIÓN EN LINUX\n",
    "\n",
    "\n",
    "+ **1 - Instalar kivy**"
   ]
  },
  {
   "cell_type": "markdown",
   "metadata": {},
   "source": [
    "+ Instalar virtualenv en python3"
   ]
  },
  {
   "cell_type": "raw",
   "metadata": {},
   "source": [
    "python3 -m pip install --upgrade --user pip setuptools virtualenv"
   ]
  },
  {
   "cell_type": "markdown",
   "metadata": {},
   "source": [
    "+ Crear un entorno virtual llamado kivyenv"
   ]
  },
  {
   "cell_type": "raw",
   "metadata": {},
   "source": [
    "python3 -m virtualenv kivyenv"
   ]
  },
  {
   "cell_type": "markdown",
   "metadata": {},
   "source": [
    "+ Activar el entorno kivyenv (cambiar a ruta del entorno)"
   ]
  },
  {
   "cell_type": "raw",
   "metadata": {},
   "source": [
    "source ~/kivyenv/bin/activate"
   ]
  },
  {
   "cell_type": "markdown",
   "metadata": {},
   "source": [
    "+ Instalar kivy en nuestro kivyenv"
   ]
  },
  {
   "cell_type": "raw",
   "metadata": {},
   "source": [
    "python3 -m pip install cython\n",
    "python3 -m pip install kivy\n",
    "python3 -m pip install kivy_examples\n",
    "python3 -m pip install ffpyplayer"
   ]
  },
  {
   "cell_type": "raw",
   "metadata": {},
   "source": [
    "# si da error en el install\n",
    "\n",
    "pip3 install kivy kivy_examples --pre --extra-index-url https://kivy.org/downloads/simple/     "
   ]
  },
  {
   "cell_type": "markdown",
   "metadata": {},
   "source": [
    "+ **2 - Instalar buildozer**"
   ]
  },
  {
   "cell_type": "code",
   "execution_count": null,
   "metadata": {},
   "outputs": [],
   "source": []
  },
  {
   "cell_type": "code",
   "execution_count": null,
   "metadata": {},
   "outputs": [],
   "source": []
  },
  {
   "cell_type": "code",
   "execution_count": null,
   "metadata": {},
   "outputs": [],
   "source": []
  },
  {
   "cell_type": "code",
   "execution_count": null,
   "metadata": {},
   "outputs": [],
   "source": []
  },
  {
   "cell_type": "code",
   "execution_count": null,
   "metadata": {},
   "outputs": [],
   "source": []
  },
  {
   "cell_type": "code",
   "execution_count": null,
   "metadata": {},
   "outputs": [],
   "source": []
  },
  {
   "cell_type": "code",
   "execution_count": null,
   "metadata": {},
   "outputs": [],
   "source": []
  }
 ],
 "metadata": {
  "kernelspec": {
   "display_name": "Python 3",
   "language": "python",
   "name": "python3"
  },
  "language_info": {
   "codemirror_mode": {
    "name": "ipython",
    "version": 3
   },
   "file_extension": ".py",
   "mimetype": "text/x-python",
   "name": "python",
   "nbconvert_exporter": "python",
   "pygments_lexer": "ipython3",
   "version": "3.8.2"
  }
 },
 "nbformat": 4,
 "nbformat_minor": 4
}
