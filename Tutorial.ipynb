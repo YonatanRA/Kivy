{
 "cells": [
  {
   "cell_type": "markdown",
   "metadata": {},
   "source": [
    "# Introducción a Kivy"
   ]
  },
  {
   "cell_type": "markdown",
   "metadata": {},
   "source": [
    "Kivy es un framework multiplataforma de código abierto para la creación de interfaces gráficas de usuario. Está especialmente dirigido a plataformas móviles (Android e iOS), pero también puede ejecutarse en Windows. Linux y macOS.\n",
    "\n",
    "Una aplicación creada con el framework kivy puede empaquetarse con pyinstaller para ejecutarse en equipos de escritorio, pero además el proyecto kivy incluye subproyectos que permiten distribuir las aplicaciones creadas con el framework kivy en Android e iOS."
   ]
  },
  {
   "cell_type": "markdown",
   "metadata": {},
   "source": [
    "## INSTALACIÓN EN LINUX\n",
    "\n",
    "\n",
    "+ **1 - Instalar kivy**"
   ]
  },
  {
   "cell_type": "markdown",
   "metadata": {},
   "source": [
    "+ Instalar virtualenv en python3"
   ]
  },
  {
   "cell_type": "raw",
   "metadata": {},
   "source": [
    "python3 -m pip install --upgrade --user pip setuptools virtualenv"
   ]
  },
  {
   "cell_type": "markdown",
   "metadata": {},
   "source": [
    "+ Crear un entorno virtual llamado kivyenv"
   ]
  },
  {
   "cell_type": "raw",
   "metadata": {},
   "source": [
    "python3 -m virtualenv kivyenv"
   ]
  },
  {
   "cell_type": "markdown",
   "metadata": {},
   "source": [
    "+ Activar el entorno kivyenv (cambiar a ruta del entorno)"
   ]
  },
  {
   "cell_type": "raw",
   "metadata": {},
   "source": [
    "source ~/kivyenv/bin/activate"
   ]
  },
  {
   "cell_type": "markdown",
   "metadata": {},
   "source": [
    "+ Instalar kivy en nuestro kivyenv"
   ]
  },
  {
   "cell_type": "raw",
   "metadata": {},
   "source": [
    "python3 -m pip install cython\n",
    "python3 -m pip install kivy\n",
    "python3 -m pip install kivy_examples\n",
    "python3 -m pip install ffpyplayer"
   ]
  },
  {
   "cell_type": "raw",
   "metadata": {},
   "source": [
    "# si da error en el install\n",
    "\n",
    "pip3 install kivy kivy_examples --pre --extra-index-url https://kivy.org/downloads/simple/     "
   ]
  },
  {
   "cell_type": "markdown",
   "metadata": {},
   "source": [
    "+ **2 - Instalar buildozer**"
   ]
  },
  {
   "cell_type": "markdown",
   "metadata": {},
   "source": [
    "+ **Instalar buildozer en nuestro kivyenv**\n",
    "\n",
    "buildozer se encargará de crear nuestros apks instalables en dispositivos android. Para funcionar correctamente es necesario instalar, además, cython y virtualenv en nuestro kivyenv. Por otra parte, tenemos que instalar el jdk8 para que buildozer pueda compilar el archivo apk. Los comandos para realizar la instalación completa son los siguientes:"
   ]
  },
  {
   "cell_type": "raw",
   "metadata": {},
   "source": [
    "python3 -m pip install --upgrade buildozer\n",
    "sudo apt update\n",
    "sudo apt install -y git zip unzip openjdk-8-jdk python3-pip autoconf libtool pkg-config zlib1g-dev libncurses5-dev libncursesw5-dev libtinfo5 cmake libffi-dev\n",
    "python3 -m pip install --upgrade cython virtualenv"
   ]
  },
  {
   "cell_type": "markdown",
   "metadata": {},
   "source": [
    "+ **Configurar JAVA_HOME y el PATH del sistema:**\n",
    "\n",
    "Abre el archivo ~/.bashrc con cualquier editor de texto y al final del archivo añade lo siguiente:"
   ]
  },
  {
   "cell_type": "raw",
   "metadata": {},
   "source": [
    "export JAVA_HOME=/usr/lib/jvm/java-8-openjdk-amd64\n",
    "export PATH=$PATH:$JAVA_HOME/bin\n",
    "export PATH=$PATH:~/.local/bin"
   ]
  },
  {
   "cell_type": "markdown",
   "metadata": {},
   "source": [
    "Si no añades al archivo .bashrc la variable de entorno JAVA_HOME puede que buildozer funcione correctamente, pero si en tu equipo tienes instaladas otras versiones del java development kit (jdk) y/o android studio puede que cuando buildozer ejecute javac esté utilizando una versión diferente e incompatible del jdk y la compilación falle (esto me dió muchos quebraderos de cabeza).\n",
    "En cualquier caso, siempre debes añadir export PATH=$PATH:~/.local/bin.\n",
    "\n",
    "Finalmente ejecuta source ~/.bashrc para aplicar los cambios sin reiniciar el equipo."
   ]
  },
  {
   "cell_type": "markdown",
   "metadata": {},
   "source": [
    "**NOTAS**\n",
    "\n",
    "Hemos instalado kivy y buildozer en un virtualenv llamado kivyenv. Hay varios motivos por los que hemos realizado la instalación en un entorno virtual y no directamente en la instalación de python3 de nuestro equipo:\n",
    "\n",
    "+ kivy tiene muchas dependencias que pueden corromperse al instalar otros módulos y paquetes en nuestra instalación de python3.\n",
    "+ pyinstaller generalmente crea ejecutables de mayor tamaño cuando se trabaja fuera de un virtualenv, debido al mecanismo de búsqueda de dependencias entre módulos y paquetes.\n",
    "+ Aunque la documentación oficial de kivy recomienda realizar la instalación en un virtualenv lo cierto es que he intentado instalarlo en la instalación de python3 del equipo y no he tenido éxito.\n",
    "\n",
    "Si has prestado atención a los comandos ejecutados para instalar buildozer te habrás fijado en que, entre otras cosas, buildozer depende de Cython. Por otra parte, dentro de nuestro kivyenv hemos instalado virtualenv: esto aunque parezca \"redundante\" es necesario, ya que buildozer creará un entorno virtual para nuestra aplicación, que compilará para la plataforma móvil deseada (iOS o Android).\n",
    "\n",
    "No es necesario instalar pyjnius ni plyer, ya que buildozer se encargará de instalarlos si son necesarios (vía pip) en el momento de crear la distribución para la plataforma seleccionada. Tampoco tenemos que preocuparnos de instalar python-for-android: buildozer se encarga de todo.\n",
    "\n",
    "\n"
   ]
  },
  {
   "cell_type": "markdown",
   "metadata": {},
   "source": [
    "### Ejemplo: APK para Android (kivy + pyjnius)\n",
    "\n",
    "Vamos a crear un proyecto llamado ejemplo_kivy:\n",
    "\n"
   ]
  },
  {
   "cell_type": "raw",
   "metadata": {},
   "source": [
    "mkdir ejemplo_kivy\n",
    "cd ejemplo_kivy\n",
    "touch main.py second.py"
   ]
  },
  {
   "cell_type": "markdown",
   "metadata": {},
   "source": [
    "En nuestro proyecto de ejemplo hemos creado dos archivos (main.py y second.py). En main.py crearemos una sencilla interfaz gráfica y en second.py definiremos las funciones manejadoras de eventos."
   ]
  },
  {
   "cell_type": "markdown",
   "metadata": {},
   "source": [
    "**main.py**"
   ]
  },
  {
   "cell_type": "code",
   "execution_count": null,
   "metadata": {},
   "outputs": [],
   "source": [
    "from kivy.app import App\n",
    "from kivy.uix.boxlayout import BoxLayout\n",
    "from kivy.uix.button import Button\n",
    "\n",
    "\n",
    "class btnToast(Button):\n",
    "    text = 'Toast'\n",
    "    def on_press(self):\n",
    "        print('QUIERO MOSTRAR UN TOAST')\n",
    "\n",
    "class btnShare(Button):\n",
    "    text = 'Share'\n",
    "    def on_press(self):\n",
    "        print('QUIERO COMPARTIR UN TEXTO POR WHATSAPP')\n",
    "\n",
    "class Box(BoxLayout):\n",
    "    orientation = 'vertical'\n",
    "    def __init__(self):\n",
    "        super(Box, self).__init__()\n",
    "        self.add_widget(btnToast())\n",
    "        self.add_widget(btnShare())\n",
    "\n",
    "class MainApp(App):\n",
    "    def build(self):\n",
    "        return Box()\n",
    "\n",
    "\n",
    "if __name__ == \"__main__\":\n",
    "    MainApp().run()"
   ]
  },
  {
   "cell_type": "markdown",
   "metadata": {},
   "source": [
    "**second.py**"
   ]
  },
  {
   "cell_type": "code",
   "execution_count": null,
   "metadata": {},
   "outputs": [],
   "source": [
    "from kivy.utils import platform\n",
    "\n",
    "if platform == 'android':\n",
    "\n",
    "    from jnius import autoclass, cast\n",
    "    from android.runnable import run_on_ui_thread\n",
    "\n",
    "    context = autoclass('org.renpy.android.PythonActivity').mActivity\n",
    "    Toast = autoclass('android.widget.Toast')\n",
    "    String = autoclass('java.lang.String')\n",
    "    Intent = autoclass('android.content.Intent') \n",
    "\n",
    "    def charseq(text):\n",
    "        return cast('java.lang.CharSequence', String(text))\n",
    "\n",
    "\n",
    "    @run_on_ui_thread\n",
    "    def toast(text):\n",
    "\n",
    "        text = charseq(text)\n",
    "        mi_toast = Toast.makeText(context, text, Toast.LENGTH_SHORT)\n",
    "        mi_toast.show()\n",
    "\n",
    "\n",
    "    @run_on_ui_thread\n",
    "    def share(text):\n",
    "\n",
    "        text, subject = charseq(text), charseq(text.replace(' ', '-'))\n",
    "\n",
    "        intent = Intent()\n",
    "        intent.setAction(Intent.ACTION_SEND)\n",
    "\n",
    "        intent.putExtra(Intent.EXTRA_SUBJECT, subject)\n",
    "        intent.putExtra(Intent.EXTRA_TEXT, text)\n",
    "\n",
    "        intent.setType('text/plain')\n",
    "\n",
    "        context.startActivity(intent)\n",
    "\n",
    "else:\n",
    "    toast = print\n",
    "    share = print"
   ]
  },
  {
   "cell_type": "code",
   "execution_count": null,
   "metadata": {},
   "outputs": [],
   "source": []
  },
  {
   "cell_type": "code",
   "execution_count": null,
   "metadata": {},
   "outputs": [],
   "source": []
  }
 ],
 "metadata": {
  "kernelspec": {
   "display_name": "Python 3",
   "language": "python",
   "name": "python3"
  },
  "language_info": {
   "codemirror_mode": {
    "name": "ipython",
    "version": 3
   },
   "file_extension": ".py",
   "mimetype": "text/x-python",
   "name": "python",
   "nbconvert_exporter": "python",
   "pygments_lexer": "ipython3",
   "version": "3.8.2"
  }
 },
 "nbformat": 4,
 "nbformat_minor": 4
}
